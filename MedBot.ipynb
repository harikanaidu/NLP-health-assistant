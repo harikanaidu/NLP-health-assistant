{
 "cells": [
  {
   "cell_type": "code",
   "execution_count": 1,
   "metadata": {},
   "outputs": [],
   "source": [
    "import speech_recognition as sr;\n",
    "import win32com.client "
   ]
  },
  {
   "cell_type": "code",
   "execution_count": 2,
   "metadata": {},
   "outputs": [],
   "source": [
    "r=sr.Recognizer()\n",
    "speaker = win32com.client.Dispatch(\"SAPI.SpVoice\")\n",
    "with sr.Microphone() as source:\n",
    "    speaker.Speak(\"Say something\")\n",
    "    audio=r.listen(source)\n",
    "    try:\n",
    "        text=r.recognize_google(audio)\n",
    "        speaker.Speak(\"You said \" + text)    \n",
    "    except:\n",
    "        speaker.Speak(\"Sorry, couldn't catch that!\")"
   ]
  },
  {
   "cell_type": "code",
   "execution_count": 3,
   "metadata": {},
   "outputs": [
    {
     "data": {
      "text/plain": [
       "0"
      ]
     },
     "execution_count": 3,
     "metadata": {},
     "output_type": "execute_result"
    }
   ],
   "source": [
    "import os\n",
    "os.system(\"echo 'hey'\")"
   ]
  },
  {
   "cell_type": "code",
   "execution_count": 4,
   "metadata": {},
   "outputs": [
    {
     "data": {
      "text/plain": [
       "1"
      ]
     },
     "execution_count": 4,
     "metadata": {},
     "output_type": "execute_result"
    }
   ],
   "source": [
    "import win32com.client\n",
    "speaker = win32com.client.Dispatch(\"SAPI.SpVoice\")\n",
    "speaker.Speak(\"Hello, it works!\")"
   ]
  },
  {
   "cell_type": "code",
   "execution_count": 5,
   "metadata": {},
   "outputs": [],
   "source": [
    "import nltk\n",
    "#nltk.download()"
   ]
  },
  {
   "cell_type": "code",
   "execution_count": 14,
   "metadata": {},
   "outputs": [],
   "source": [
    "import nltk\n",
    "from nltk.tokenize import sent_tokenize, word_tokenize, PunktSentenceTokenizer\n",
    "import speech_recognition as sr;\n",
    "import win32com.client \n",
    "from nltk.corpus import stopwords\n",
    "from nltk.stem import WordNetLemmatizer \n",
    "import mysql.connector\n",
    "from mysql.connector import Error\n",
    "from word2number import w2n"
   ]
  },
  {
   "cell_type": "code",
   "execution_count": 16,
   "metadata": {},
   "outputs": [
    {
     "name": "stdout",
     "output_type": "stream",
     "text": [
      "Harika\n",
      "19\n",
      "cough\n",
      "yes\n",
      "False\n",
      "You may be suffering from Asthma.\n",
      "You can take the analgesics Metered dose inhalers, nebulizers for immediate relief and you can also go for Asthma therapy\n",
      "Also, please don't forget to include good amounts of Fruits and vegetables in your diet. \n",
      "Hope that was helpful. It was nice serving you, Harika\n"
     ]
    }
   ],
   "source": [
    "r=sr.Recognizer()\n",
    "speaker = win32com.client.Dispatch(\"SAPI.SpVoice\")\n",
    "stopWords=set(stopwords.words('english'))\n",
    "filteredWords=[]\n",
    "tags=[]\n",
    "lemWords=[]\n",
    "y='yes'\n",
    "n='no'\n",
    "nope='nope'\n",
    "yeah='yeah'\n",
    "ps=WordNetLemmatizer()\n",
    "\n",
    "with sr.Microphone() as source:\n",
    "    speaker.Speak(\"Hello there! I'm Doctor Shawn and I'm your personal health assistant. I might need some of your personal details to serve you better. \")\n",
    "    speaker.Speak(\"What's your name?\")\n",
    "    audio=r.listen(source)\n",
    "    try:\n",
    "        sent1=r.recognize_google(audio)\n",
    "        words1=word_tokenize(sent1)\n",
    "        name=words1[len(words1)-1]\n",
    "        print(name)\n",
    "        speaker.Speak(\"Hey \"+name+\"Can you tell me your age?\")\n",
    "        audio=r.listen(source)\n",
    "        sent2=r.recognize_google(audio)\n",
    "        words2=word_tokenize(sent2)\n",
    "        age=words2[len(words2)-1]\n",
    "        print(age)\n",
    "        \n",
    "    #speaker.Speak(\"Thanks for telling me.Your age is\"+age)\n",
    "        speaker.Speak(\"Thanks for telling me your age, \"+name+\" Now do you mind telling me your gender?\")\n",
    "        audio=r.listen(source)\n",
    "        sent3=r.recognize_google(audio)\n",
    "        words3=word_tokenize(sent3)\n",
    "        gender=words3[len(words3)-1]\n",
    "        #print(gender)\n",
    "        \n",
    "        speaker.Speak(\"Name one of the primary problems you're facing\")\n",
    "        audio=r.listen(source)\n",
    "        sent4=r.recognize_google(audio)\n",
    "        words4=word_tokenize(sent4)\n",
    "        sym=words4[len(words4)-1]\n",
    "        print(sym)\n",
    "        conn = mysql.connector.connect(host='sql12.freemysqlhosting.net',\n",
    "                             database='sql12279572',\n",
    "                             user='sql12279572',\n",
    "                             password='PylfrUnIqm')\n",
    "        if conn.is_connected():\n",
    "            cursor = conn.cursor()\n",
    "            cursor.execute(\"select * from health where symptoms like '%\"+sym+\"%'\")\n",
    "            record = cursor.fetchone()\n",
    "            speaker.Speak(\"Are you also suffering from severe \"+record[2]+\"?\")\n",
    "            audio=r.listen(source)\n",
    "            sent5=r.recognize_google(audio)\n",
    "            words5=word_tokenize(sent5)\n",
    "            addedsymp=words5[0]\n",
    "            for w in words5:\n",
    "                if w not in stopWords:\n",
    "                    filteredWords.append(w)\n",
    "                    lemWords.append(ps.lemmatize(w))\n",
    "            print(addedsymp)\n",
    "            print(addedsymp==n or addedsymp==nope)\n",
    "            if(addedsymp==n):\n",
    "                speaker.Speak(\"Then you have nothing to worry about, \"+name+\" Have a nice day!\")\n",
    "            elif(addedsymp==y or addedsymp==yeah):\n",
    "                speaker.Speak(\"You may be suffering from \"+record[3]+\" , but dont worry I've got your back\")\n",
    "                speaker.Speak(\"You can take the analgesics, \"+record[4]+\"for immediate relief and you can also go for, \"+record[5])\n",
    "                speaker.Speak(\"Also, please don't forget to include good amounts of \"+record[6]+\" in your diet. \")\n",
    "                speaker.Speak(\"Hope that was helpful. It was nice serving you,\"+name)\n",
    "                print(\"You may be suffering from \"+record[3]+\".\")\n",
    "                print(\"You can take the analgesics \"+record[4]+\" for immediate relief and you can also go for \"+record[5])\n",
    "                print(\"Also, please don't forget to include good amounts of \"+record[6]+\" in your diet. \")\n",
    "                print(\"Hope that was helpful. It was nice serving you, \"+name)\n",
    "\n",
    "    except:\n",
    "        speaker.Speak(\"Sorry! Couldn't catch that\")\n",
    "                \n",
    "        #print(sent_tokenize(name))\n",
    "        #speaker.Speak(\"You said \" + text)    \n",
    "    #except:\n",
    "        #speaker.Speak(\"Sorry, couldn't catch that!\")\n",
    "#print(filteredWords)\n",
    "#print(lemWords)\n",
    "tags=nltk.pos_tag(lemWords)\n",
    "#print(tags)"
   ]
  },
  {
   "cell_type": "code",
   "execution_count": 8,
   "metadata": {},
   "outputs": [
    {
     "name": "stdout",
     "output_type": "stream",
     "text": [
      "<WordListCorpusReader in 'C:\\\\Users\\\\Harika\\\\AppData\\\\Roaming\\\\nltk_data\\\\corpora\\\\stopwords'>\n"
     ]
    }
   ],
   "source": [
    "print(stopwords)"
   ]
  },
  {
   "cell_type": "code",
   "execution_count": 9,
   "metadata": {},
   "outputs": [
    {
     "name": "stdout",
     "output_type": "stream",
     "text": [
      "Connected to MySQL database... MySQL Server version on  5.5.58-0ubuntu0.14.04.1\n",
      "MySQL connection is closed\n"
     ]
    }
   ],
   "source": [
    "import mysql.connector\n",
    "from mysql.connector import Error\n",
    "#sym=\"wheezing\"\n",
    "l=(0,120)\n",
    "#placeholder= '?' # For SQLite. See DBAPI paramstyle.\n",
    "#placeholders= ', '.join(placeholder*len(l))\n",
    "#query= 'SELECT pred_diseases FROM health where age IN %s' % (l,)\n",
    "try:\n",
    "    conn = mysql.connector.connect(host='sql12.freemysqlhosting.net',\n",
    "                             database='sql12279572',\n",
    "                             user='sql12279572',\n",
    "                             password='PylfrUnIqm')\n",
    "    if conn.is_connected():\n",
    "       db_Info = conn.get_server_info()\n",
    "       print(\"Connected to MySQL database... MySQL Server version on \",db_Info)\n",
    "       cursor = conn.cursor()\n",
    "       #cursor.execute(query)\n",
    "       cursor.execute(\"select pred_diseases from health where symptoms like '%\"+sym+\"%'\")\n",
    "       record = cursor.fetchone()\n",
    "       speaker.Speak(\"You're suffering from\"+record[0]+\" , but dont worry I've got you\")\n",
    "except Error as e :\n",
    "    print (\"Error while connecting to MySQL\", e)\n",
    "finally:\n",
    "    #closing database connection.\n",
    "    if conn.is_connected():\n",
    "        cursor.close()\n",
    "        conn.close()\n",
    "        print(\"MySQL connection is closed\")"
   ]
  },
  {
   "cell_type": "code",
   "execution_count": 10,
   "metadata": {},
   "outputs": [
    {
     "name": "stdout",
     "output_type": "stream",
     "text": [
      "20\n"
     ]
    }
   ],
   "source": [
    "from word2number import w2n\n",
    "print(w2n.word_to_num('twenty'))"
   ]
  },
  {
   "cell_type": "code",
   "execution_count": 11,
   "metadata": {},
   "outputs": [
    {
     "ename": "NameError",
     "evalue": "name 'a' is not defined",
     "output_type": "error",
     "traceback": [
      "\u001b[1;31m---------------------------------------------------------------------------\u001b[0m",
      "\u001b[1;31mNameError\u001b[0m                                 Traceback (most recent call last)",
      "\u001b[1;32m<ipython-input-11-3f786850e387>\u001b[0m in \u001b[0;36m<module>\u001b[1;34m()\u001b[0m\n\u001b[1;32m----> 1\u001b[1;33m \u001b[0ma\u001b[0m\u001b[1;33m\u001b[0m\u001b[0m\n\u001b[0m",
      "\u001b[1;31mNameError\u001b[0m: name 'a' is not defined"
     ]
    }
   ],
   "source": [
    "a\n"
   ]
  },
  {
   "cell_type": "code",
   "execution_count": null,
   "metadata": {},
   "outputs": [],
   "source": [
    "a"
   ]
  },
  {
   "cell_type": "code",
   "execution_count": null,
   "metadata": {},
   "outputs": [],
   "source": [
    "if(w2n.word_to_num(age)<=20):\n",
    "            a=(0,120)\n",
    "        elif(w2n.word_to_num(age)>20 and w2n.word_to_num(age)<=50):\n",
    "            a=(1,120)\n",
    "        elif(w2n.word_to_num(age)>50 and w2n.word_to_num(age)<120):\n",
    "            a=(2,120)"
   ]
  },
  {
   "cell_type": "code",
   "execution_count": null,
   "metadata": {},
   "outputs": [],
   "source": [
    "if(gender=='female'):\n",
    "            print(\"F\")\n",
    "            g=(\"F\",\"M/F\")\n",
    "        elif(gender=='male'):\n",
    "            print(\"M\")\n",
    "            g=(\"M\",\"M/F\")"
   ]
  }
 ],
 "metadata": {
  "kernelspec": {
   "display_name": "Python 3",
   "language": "python",
   "name": "python3"
  },
  "language_info": {
   "codemirror_mode": {
    "name": "ipython",
    "version": 3
   },
   "file_extension": ".py",
   "mimetype": "text/x-python",
   "name": "python",
   "nbconvert_exporter": "python",
   "pygments_lexer": "ipython3",
   "version": "3.6.5"
  },
  "widgets": {
   "application/vnd.jupyter.widget-state+json": {
    "state": {},
    "version_major": 2,
    "version_minor": 0
   }
  }
 },
 "nbformat": 4,
 "nbformat_minor": 2
}
